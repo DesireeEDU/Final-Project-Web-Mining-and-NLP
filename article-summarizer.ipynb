{
 "cells": [
  {
   "cell_type": "markdown",
   "metadata": {},
   "source": [
    "# Web Mining and Applied NLP (44-620)\n",
    "\n",
    "## Final Project: Article Summarizer\n",
    "\n",
    "### Student Name: Desiree Thompson - https://github.com/DesireeEDU/Final-Project-Web-Mining-and-NLP\n",
    "\n",
    "Perform the tasks described in the Markdown cells below.  When you have completed the assignment make sure your code cells have all been run (and have output beneath them) and ensure you have committed and pushed ALL of your changes to your assignment repository.\n",
    "\n",
    "You should bring in code from previous assignments to help you answer the questions below.\n",
    "\n",
    "Every question that requires you to write code will have a code cell underneath it; you may either write your entire solution in that cell or write it in a python file (`.py`), then import and run the appropriate code to answer the question."
   ]
  },
  {
   "cell_type": "code",
   "execution_count": 243,
   "metadata": {},
   "outputs": [
    {
     "name": "stdout",
     "output_type": "stream",
     "text": [
      "Package                   VersionAll prereqs installed.\n",
      "\n",
      "------------------------- --------\n",
      "anyio                     3.7.1\n",
      "argon2-cffi               21.3.0\n",
      "argon2-cffi-bindings      21.2.0\n",
      "arrow                     1.2.3\n",
      "asttokens                 2.2.1\n",
      "async-lru                 2.0.3\n",
      "attrs                     23.1.0\n",
      "Babel                     2.12.1\n",
      "backcall                  0.2.0\n",
      "beautifulsoup4            4.12.2\n",
      "bleach                    6.0.0\n",
      "blis                      0.7.9\n",
      "catalogue                 2.0.8\n",
      "certifi                   2023.5.7\n",
      "cffi                      1.15.1\n",
      "charset-normalizer        3.2.0\n",
      "click                     8.1.5\n",
      "colorama                  0.4.6\n",
      "comm                      0.1.3\n",
      "confection                0.1.0\n",
      "contourpy                 1.1.0\n",
      "cycler                    0.11.0\n",
      "cymem                     2.0.7\n",
      "debugpy                   1.6.7\n",
      "decorator                 5.1.1\n",
      "defusedxml                0.7.1\n",
      "en-core-web-sm            3.6.0\n",
      "executing                 1.2.0\n",
      "fastjsonschema            2.17.1\n",
      "fonttools                 4.40.0\n",
      "fqdn                      1.5.1\n",
      "html5lib                  1.1\n",
      "idna                      3.4\n",
      "ipykernel                 6.24.0\n",
      "ipython                   8.14.0\n",
      "isoduration               20.11.0\n",
      "jedi                      0.18.2\n",
      "Jinja2                    3.1.2\n",
      "joblib                    1.3.1\n",
      "json5                     0.9.14\n",
      "jsonpointer               2.4\n",
      "jsonschema                4.18.0\n",
      "jsonschema-specifications 2023.6.1\n",
      "jupyter_client            8.3.0\n",
      "jupyter_core              5.3.1\n",
      "jupyter-events            0.6.3\n",
      "jupyter-lsp               2.2.0\n",
      "jupyter_server            2.7.0\n",
      "jupyter_server_terminals  0.4.4\n",
      "jupyterlab                4.0.2\n",
      "jupyterlab-pygments       0.2.2\n",
      "jupyterlab_server         2.23.0\n",
      "kiwisolver                1.4.4\n",
      "langcodes                 3.3.0\n",
      "lyricsgenius              3.0.1\n",
      "MarkupSafe                2.1.3\n",
      "matplotlib                3.7.2\n",
      "matplotlib-inline         0.1.6\n",
      "mistune                   3.0.1\n",
      "murmurhash                1.0.9\n",
      "nbclient                  0.8.0\n",
      "nbconvert                 7.6.0\n",
      "nbformat                  5.9.1\n",
      "nest-asyncio              1.5.6\n",
      "nltk                      3.8.1\n",
      "notebook_shim             0.2.3\n",
      "numpy                     1.25.1\n",
      "overrides                 7.3.1\n",
      "packaging                 23.1\n",
      "pandocfilters             1.5.0\n",
      "parso                     0.8.3\n",
      "pathy                     0.10.2\n",
      "pickleshare               0.7.5\n",
      "Pillow                    10.0.0\n",
      "pip                       23.1.2\n",
      "platformdirs              3.8.1\n",
      "preshed                   3.0.8\n",
      "prometheus-client         0.17.1\n",
      "prompt-toolkit            3.0.39\n",
      "psutil                    5.9.5\n",
      "pure-eval                 0.2.2\n",
      "pycparser                 2.21\n",
      "pydantic                  1.10.11\n",
      "Pygments                  2.15.1\n",
      "pyparsing                 3.0.9\n",
      "python-dateutil           2.8.2\n",
      "python-json-logger        2.0.7\n",
      "pywin32                   306\n",
      "pywinpty                  2.0.10\n",
      "PyYAML                    6.0\n",
      "pyzmq                     25.1.0\n",
      "referencing               0.29.1\n",
      "regex                     2023.6.3\n",
      "requests                  2.31.0\n",
      "rfc3339-validator         0.1.4\n",
      "rfc3986-validator         0.1.1\n",
      "rpds-py                   0.8.10\n",
      "Send2Trash                1.8.2\n",
      "setuptools                65.5.0\n",
      "six                       1.16.0\n",
      "smart-open                6.3.0\n",
      "sniffio                   1.3.0\n",
      "soupsieve                 2.4.1\n",
      "spacy                     3.6.0\n",
      "spacy-legacy              3.0.12\n",
      "spacy-loggers             1.0.4\n",
      "spacytextblob             4.0.0\n",
      "srsly                     2.4.6\n",
      "stack-data                0.6.2\n",
      "terminado                 0.17.1\n",
      "textblob                  0.15.3\n",
      "thinc                     8.1.10\n",
      "tinycss2                  1.2.1\n",
      "tornado                   6.3.2\n",
      "tqdm                      4.65.0\n",
      "traitlets                 5.9.0\n",
      "typer                     0.9.0\n",
      "typing_extensions         4.7.1\n",
      "uri-template              1.3.0\n",
      "urllib3                   2.0.3\n",
      "wasabi                    1.1.2\n",
      "wcwidth                   0.2.6\n",
      "webcolors                 1.13\n",
      "webencodings              0.5.1\n",
      "websocket-client          1.6.1\n"
     ]
    },
    {
     "name": "stderr",
     "output_type": "stream",
     "text": [
      "\n",
      "[notice] A new release of pip is available: 23.1.2 -> 23.2.1\n",
      "[notice] To update, run: python.exe -m pip install --upgrade pip\n"
     ]
    }
   ],
   "source": [
    "# Create and activate a Python virtual environment. \n",
    "# Before starting the project, try all these imports FIRST\n",
    "# Address any errors you get running this code cell \n",
    "# by installing the necessary packages into your active Python environment.\n",
    "# Try to resolve issues using your materials and the web.\n",
    "# If that doesn't work, ask for help in the discussion forums.\n",
    "# You can't complete the exercises until you import these - start early! \n",
    "# We also import pickle and Counter (included in the Python Standard Library).\n",
    "\n",
    "from collections import Counter\n",
    "import pickle\n",
    "import requests\n",
    "import spacy\n",
    "from bs4 import BeautifulSoup\n",
    "import numpy as np\n",
    "import matplotlib.pyplot as plt\n",
    "\n",
    "!pip list\n",
    "\n",
    "print('All prereqs installed.')"
   ]
  },
  {
   "cell_type": "markdown",
   "metadata": {},
   "source": [
    "#### Question 1"
   ]
  },
  {
   "cell_type": "markdown",
   "metadata": {},
   "source": [
    "1. Find on the internet an article or blog post about a topic that interests you and you are able to get the text for using the technologies we have applied in the course.  Get the html for the article and store it in a file (which you must submit with your project)"
   ]
  },
  {
   "cell_type": "code",
   "execution_count": 244,
   "metadata": {},
   "outputs": [],
   "source": [
    "response = requests.get(\"https://www.usda.gov/media/blog/2023/04/28/integrating-nutrition-healthcare-midwest\")\n",
    "\n",
    "parser = \"html.parser\"\n",
    "\n",
    "soup = BeautifulSoup(response.text, parser)\n",
    "\n",
    "with open(\"article_html.pkl\", \"wb\") as f:\n",
    "    pickle.dump(response.text, f)"
   ]
  },
  {
   "cell_type": "markdown",
   "metadata": {},
   "source": [
    "#### Question 2"
   ]
  },
  {
   "cell_type": "markdown",
   "metadata": {},
   "source": [
    "2. Read in your article's html source from the file you created in question 1 and do sentiment analysis on the article/post's text (use `.get_text()`).  Print the polarity score with an appropriate label.  Additionally print the number of sentences in the original article (with an appropriate label)"
   ]
  },
  {
   "cell_type": "code",
   "execution_count": 245,
   "metadata": {},
   "outputs": [
    {
     "name": "stdout",
     "output_type": "stream",
     "text": [
      "The polarity score for the article 'Integrating Nutrition into Healthcare in the Midwest' is 0.25.\n",
      "The referenced article has 19 sentences.\n"
     ]
    }
   ],
   "source": [
    "import spacy\n",
    "from spacytextblob.spacytextblob import SpacyTextBlob\n",
    "\n",
    "with open(\"article_html.pkl\", \"rb\") as f:\n",
    "    article_html = pickle.load(f)\n",
    "    \n",
    "parser = \"html.parser\"\n",
    "    \n",
    "soup = BeautifulSoup(article_html, parser)\n",
    "    \n",
    "article_element = soup.find(\"article\")\n",
    "\n",
    "# print(article_element.get_text())\n",
    "\n",
    "nlp = spacy.load(\"en_core_web_sm\")\n",
    "nlp.add_pipe(\"spacytextblob\")\n",
    "doc = nlp(article_element.get_text())\n",
    "\n",
    "sentences = list(doc.sents)        \n",
    "sentence_count = len(sentences)\n",
    "\n",
    "print(f\"The polarity score for the article 'Integrating Nutrition into Healthcare in the Midwest' is {doc._.polarity:.2}.\")\n",
    "print(f\"The referenced article has {sentence_count} sentences.\")\n",
    "                                                                     \n",
    "\n"
   ]
  },
  {
   "cell_type": "markdown",
   "metadata": {},
   "source": [
    "#### Question 3"
   ]
  },
  {
   "cell_type": "markdown",
   "metadata": {},
   "source": [
    "3. Load the article text into a trained `spaCy` pipeline, and determine the 5 most frequent tokens (converted to lower case).  Print the common tokens with an appropriate label.  Additionally, print the tokens their frequencies (with appropriate labels)"
   ]
  },
  {
   "cell_type": "code",
   "execution_count": 246,
   "metadata": {},
   "outputs": [
    {
     "name": "stdout",
     "output_type": "stream",
     "text": [
      "Them most common tokens and their respective frequencies are as follows:\n",
      "[('health', 12), ('nutrition', 12), ('food', 11), ('farm', 8), ('healthy', 4)].\n"
     ]
    }
   ],
   "source": [
    "article_tokens = []\n",
    "for token in doc:\n",
    "    if not token.is_space:\n",
    "        article_tokens.append(token)\n",
    "        \n",
    "def selected_tokens(token):\n",
    "    return not (token.is_space or token.is_punct or token.is_stop)\n",
    "        \n",
    "active_tokens = [token.text.lower() for token in doc if selected_tokens(token)]\n",
    "\n",
    "token_freq = Counter(map(str, active_tokens))\n",
    "\n",
    "print(f\"Them most common tokens and their respective frequencies are as follows:\\n{token_freq.most_common(5)}.\")"
   ]
  },
  {
   "cell_type": "markdown",
   "metadata": {},
   "source": [
    "#### Question 4"
   ]
  },
  {
   "cell_type": "markdown",
   "metadata": {},
   "source": [
    "4. Load the article text into a trained `spaCy` pipeline, and determine the 5 most frequent lemmas (converted to lower case).  Print the common lemmas with an appropriate label.  Additionally, print the lemmas with their frequencies (with appropriate labels)."
   ]
  },
  {
   "cell_type": "code",
   "execution_count": 247,
   "metadata": {},
   "outputs": [
    {
     "name": "stdout",
     "output_type": "stream",
     "text": [
      "Them most common lemmas and their respective frequencies are as follows:\n",
      "[('food', 13), ('health', 12), ('nutrition', 12), ('farm', 9), ('healthy', 5)].\n"
     ]
    }
   ],
   "source": [
    "active_lemmas = [token.lemma_.lower() for token in doc if selected_tokens(token)]\n",
    "\n",
    "lemma_freq = Counter(map(str, active_lemmas))\n",
    "\n",
    "print(f\"Them most common lemmas and their respective frequencies are as follows:\\n{lemma_freq.most_common(5)}.\")\n"
   ]
  },
  {
   "cell_type": "markdown",
   "metadata": {},
   "source": [
    "#### Question 5"
   ]
  },
  {
   "cell_type": "markdown",
   "metadata": {},
   "source": [
    "5. Make a list containing the scores (using tokens) of every sentence in the article, and plot a histogram with appropriate titles and axis labels of the scores. From your histogram, what seems to be the most common range of scores (put the answer in a comment after your code)?"
   ]
  },
  {
   "cell_type": "code",
   "execution_count": 248,
   "metadata": {},
   "outputs": [
    {
     "data": {
      "image/png": "[encoded data removed]",
      "text/plain": [
       "<Figure size 640x480 with 1 Axes>"
      ]
     },
     "metadata": {},
     "output_type": "display_data"
    },
    {
     "name": "stdout",
     "output_type": "stream",
     "text": [
      "The most common range of token scores is around 0.04 to 0.06.\n"
     ]
    }
   ],
   "source": [
    "sentences = list(doc.sents)   \n",
    "\n",
    "interesting_tokens = set()\n",
    "for token, freq in token_freq.most_common(5):\n",
    "    interesting_tokens.add(token)\n",
    "\n",
    "def score_sentence_by_token(sentence, interesting_tokens):\n",
    "    token_count = 0\n",
    "    for token in sentence:\n",
    "        if token.text.lower() in interesting_tokens:\n",
    "            token_count += 1\n",
    "    sentence_count = 0    \n",
    "    for token in sentence:\n",
    "        if not (token.is_space or token.is_punct):\n",
    "            sentence_count += 1\n",
    "            \n",
    "    return token_count / sentence_count\n",
    "\n",
    "token_list = []\n",
    "for i in range (0, len(sentences)):    \n",
    "   token_list.append(score_sentence_by_token(sentences[i], interesting_tokens))\n",
    "   \n",
    "plt.hist(token_list, color = \"turquoise\")\n",
    "plt.title(\" Frequency of Sentence Scores Using Tokens\")\n",
    "plt.xlabel(\"token scores\")\n",
    "plt.yticks(np.arange(0,8,1))\n",
    "plt.ylabel(\"frequency\")\n",
    "plt.show()\n",
    "\n",
    "print(\"The most common range of token scores is around 0.04 to 0.06.\")\n",
    "\n"
   ]
  },
  {
   "cell_type": "markdown",
   "metadata": {},
   "source": [
    "#### Question 6"
   ]
  },
  {
   "cell_type": "markdown",
   "metadata": {},
   "source": [
    "6. Make a list containing the scores (using lemmas) of every sentence in the article, and plot a histogram with appropriate titles and axis labels of the scores.  From your histogram, what seems to be the most common range of scores (put the answer in a comment after your code)?"
   ]
  },
  {
   "cell_type": "code",
   "execution_count": 249,
   "metadata": {},
   "outputs": [
    {
     "data": {
      "image/png": "[encoded data removed]",
      "text/plain": [
       "<Figure size 640x480 with 1 Axes>"
      ]
     },
     "metadata": {},
     "output_type": "display_data"
    },
    {
     "name": "stdout",
     "output_type": "stream",
     "text": [
      "The most common range of lemma scores is also around 0.03 to 0.06\n"
     ]
    }
   ],
   "source": [
    "sentences = list(doc.sents)   \n",
    "\n",
    "interesting_lemmas = set()\n",
    "for lemma, freq in lemma_freq.most_common(5):\n",
    "    interesting_lemmas.add(lemma)\n",
    "    \n",
    "def score_sentence_by_lemma(sentence, interesting_lemmas):\n",
    "    lemma_count = 0\n",
    "    for lemma in sentence:\n",
    "        if lemma.lemma_.lower() in interesting_lemmas:\n",
    "            lemma_count += 1\n",
    "    sentence_count = 0    \n",
    "    for token in sentence:\n",
    "        if not (token.is_space or token.is_punct):\n",
    "            sentence_count += 1\n",
    "            \n",
    "    return lemma_count / sentence_count\n",
    "\n",
    "lemma_list = []\n",
    "for i in range (0, len(sentences)):    \n",
    "   lemma_list.append(score_sentence_by_lemma(sentences[i], interesting_lemmas))\n",
    "plt.hist(lemma_list, color = \"purple\")\n",
    "plt.title(\"Frequency of Sentence Scores Using Lemmas\")\n",
    "plt.xlabel(\"lemma scores\")\n",
    "# plt.xticks(np.arange(0,.25,.250))\n",
    "plt.yticks(np.arange(0,8,1))\n",
    "plt.ylabel(\"frequency\")\n",
    "plt.show()\n",
    "\n",
    "print(\"The most common range of lemma scores is also around 0.03 to 0.06\")\n"
   ]
  },
  {
   "cell_type": "markdown",
   "metadata": {},
   "source": [
    "#### Question 7"
   ]
  },
  {
   "cell_type": "markdown",
   "metadata": {},
   "source": [
    "7. Using the histograms from questions 5 and 6, decide a \"cutoff\" score for tokens and lemmas such that fewer than half the sentences would have a score greater than the cutoff score.  Record the scores in this Markdown cell\n",
    "\n",
    "* Cutoff Score (tokens): 0.05\n",
    "* Cutoff Score (lemmas): 0.10\n",
    "\n",
    "Feel free to change these scores as you generate your summaries.  Ideally, we're shooting for at least 6 sentences for our summary, but don't want more than 10 (these numbers are rough estimates; they depend on the length of your article)."
   ]
  },
  {
   "cell_type": "markdown",
   "metadata": {},
   "source": [
    "#### Question 8"
   ]
  },
  {
   "cell_type": "markdown",
   "metadata": {},
   "source": [
    "8. Create a summary of the article by going through every sentence in the article and adding it to an (initially) empty list if its score (based on tokens) is greater than the cutoff score you identified in question 8.  If your loop variable is named `sent`, you may find it easier to add `sent.text.strip()` to your list of sentences.  Print the summary (I would cleanly generate the summary text by `join`ing the strings in your list together with a space (`' '.join(sentence_list)`)."
   ]
  },
  {
   "cell_type": "code",
   "execution_count": 250,
   "metadata": {},
   "outputs": [
    {
     "name": "stdout",
     "output_type": "stream",
     "text": [
      "['Posted by Sandra MacMartin, Public Affairs Specialist, FNS Midwest Region with Guest Author, Amanda Sweetman, Regional Director of Farming and Healthy Lifestyles for the Farm at Trinity Health in\\n    \\n                                                                                                                                                                                                                                              Food and Nutrition\\nNutrition Security\\n\\n Apr 27, 2023 \\n\\n \\n\\n\\nCan you imagine a day when healthcare is mostly proactive as opposed to reactive?', 'That was the focus of our discussions in late March at the second regional Come to the Table summit on nutrition security and healthcare at Trinity Health in Ypsilanti, Michigan, hosted by ProMedica and The Root Cause Coalition.', 'Alonzo Lewis, president of Trinity Health Ann Arbor, set the tone by encouraging the 150 stakeholders in attendance to build on the momentum of the White House Conference on Hunger, Nutrition, and Health by strengthening the intersections between nutrition and healthcare.', 'Creating solutions that are sustainable over time takes innovation, determination and collaboration – something The Farm at Trinity Health is very familiar with.', 'After the summit, attendees visited The Farm, one of the nation’s oldest hospital-based farms.', 'The Farm evolved from a discussion about food as medicine among health care professionals into the multi-faceted, regional program it is today.', 'Access to produce is key to increasing the intake of fresh fruits and vegetables, which supports good health.', 'And, because access to healthy food is only the first step toward better health outcomes, The Farm also offers education programs field trips, summer camp, and cooking classes to help people learn to cook healthier foods.', '“The Farm is a great example of a program that connects thousands of people to the healing power of nutritious food,” said USDA Food, Nutrition, and Consumer Services Deputy Under Secretary Stacy Dean while touring The Farm.', 'Category/Topic:\\nFood and Nutrition\\nNutrition Security\\n\\n\\nTags:\\nFood and Nutrition Service\\nFNS\\nFood and Nutrition\\nNutrition\\nfood insecurity\\nHunger\\nCollaborative Action\\nhealthy food\\nEquitable Systems\\n\\n\\nYou May Also Like\\n\\n\\n\\nModernizing SNAP Transactions with Local Farmers\\nREMINDER:']\n"
     ]
    }
   ],
   "source": [
    "token_summary = []\n",
    "for sentence in sentences:\n",
    "    if score_sentence_by_token(sentence, interesting_tokens) >= 0.05:\n",
    "        token_summary.append(sentence.text.strip())\n",
    "#print(f\"The number of sentences in the summary that are greater than the cutoff score of 0.05 is {len(article_summary)}\")\n",
    "print(token_summary)\n"
   ]
  },
  {
   "cell_type": "markdown",
   "metadata": {},
   "source": [
    "#### Question 9"
   ]
  },
  {
   "cell_type": "markdown",
   "metadata": {},
   "source": [
    "9. Print the polarity score of your summary you generated with the token scores (with an appropriate label). Additionally, print the number of sentences in the summarized article."
   ]
  },
  {
   "cell_type": "code",
   "execution_count": 251,
   "metadata": {},
   "outputs": [
    {
     "name": "stdout",
     "output_type": "stream",
     "text": [
      "The polarity of the summary is 0.26.\n",
      "The number of sentences in the summary is 10.\n"
     ]
    }
   ],
   "source": [
    "from textblob import TextBlob\n",
    "\n",
    "text = str(token_summary)\n",
    "blob = TextBlob(text)\n",
    "token_summary_polarity = blob.polarity\n",
    "\n",
    "print(f\"The polarity of the summary is {token_summary_polarity:.2}.\")\n",
    "print(f\"The number of sentences in the summary is {len(token_summary)}.\")\n"
   ]
  },
  {
   "cell_type": "markdown",
   "metadata": {},
   "source": [
    "#### Question 10"
   ]
  },
  {
   "cell_type": "markdown",
   "metadata": {},
   "source": [
    "10. Create a summary of the article by going through every sentence in the article and adding it to an (initially) empty list if its score (based on lemmas) is greater than the cutoff score you identified in question 8.  If your loop variable is named `sent`, you may find it easier to add `sent.text.strip()` to your list of sentences.  Print the summary (I would cleanly generate the summary text by `join`ing the strings in your list together with a space (`' '.join(sentence_list)`)."
   ]
  },
  {
   "cell_type": "code",
   "execution_count": 252,
   "metadata": {},
   "outputs": [
    {
     "name": "stdout",
     "output_type": "stream",
     "text": [
      "['Posted by Sandra MacMartin, Public Affairs Specialist, FNS Midwest Region with Guest Author, Amanda Sweetman, Regional Director of Farming and Healthy Lifestyles for the Farm at Trinity Health in\\n    \\n                                                                                                                                                                                                                                              Food and Nutrition\\nNutrition Security\\n\\n Apr 27, 2023 \\n\\n \\n\\n\\nCan you imagine a day when healthcare is mostly proactive as opposed to reactive?', 'After the summit, attendees visited The Farm, one of the nation’s oldest hospital-based farms.', 'The Farm evolved from a discussion about food as medicine among health care professionals into the multi-faceted, regional program it is today.', 'And, because access to healthy food is only the first step toward better health outcomes, The Farm also offers education programs field trips, summer camp, and cooking classes to help people learn to cook healthier foods.', '“The Farm is a great example of a program that connects thousands of people to the healing power of nutritious food,” said USDA Food, Nutrition, and Consumer Services Deputy Under Secretary Stacy Dean while touring The Farm.', 'Category/Topic:\\nFood and Nutrition\\nNutrition Security\\n\\n\\nTags:\\nFood and Nutrition Service\\nFNS\\nFood and Nutrition\\nNutrition\\nfood insecurity\\nHunger\\nCollaborative Action\\nhealthy food\\nEquitable Systems\\n\\n\\nYou May Also Like\\n\\n\\n\\nModernizing SNAP Transactions with Local Farmers\\nREMINDER:']\n"
     ]
    }
   ],
   "source": [
    "lemma_summary = []\n",
    "for sentence in sentences:\n",
    "    if score_sentence_by_lemma(sentence, interesting_lemmas) >= 0.10:\n",
    "        lemma_summary.append(sentence.text.strip())\n",
    "#print(f\"The number of sentences in the summary that are greater than the cutoff score of 0.05 is {len(lemma_summary)}\")\n",
    "print(lemma_summary)"
   ]
  },
  {
   "cell_type": "markdown",
   "metadata": {},
   "source": [
    "#### Question 11"
   ]
  },
  {
   "cell_type": "markdown",
   "metadata": {},
   "source": [
    "11. Print the polarity score of your summary you generated with the lemma scores (with an appropriate label). Additionally, print the number of sentences in the summarized article."
   ]
  },
  {
   "cell_type": "code",
   "execution_count": 253,
   "metadata": {},
   "outputs": [
    {
     "name": "stdout",
     "output_type": "stream",
     "text": [
      "The polarity of the summary is 0.32.\n",
      "The number of sentences in the summary is 6.\n"
     ]
    }
   ],
   "source": [
    "text = str(lemma_summary)\n",
    "blob = TextBlob(text)\n",
    "lemma_summary_polarity = blob.polarity\n",
    "\n",
    "print(f\"The polarity of the summary is {lemma_summary_polarity:.2}.\")\n",
    "print(f\"The number of sentences in the summary is {len(lemma_summary)}.\")\n"
   ]
  },
  {
   "cell_type": "markdown",
   "metadata": {},
   "source": [
    "#### Question 12"
   ]
  },
  {
   "cell_type": "markdown",
   "metadata": {},
   "source": [
    "12.  Compare your polarity scores of your summaries to the polarity scores of the initial article.  Is there a difference?  Why do you think that may or may not be?.  Answer in this Markdown cell.  "
   ]
  },
  {
   "cell_type": "markdown",
   "metadata": {},
   "source": [
    "The initial article summary is 0.25. The refined summaries of tokens and lemmas after considering the cut off were 0.26 and 0.32 respetively. I believe that the scores increased in the refined summaries due to the the increased concentration of the words in the tokens and lemmas. This also explains the increase from the refined token to the refined lemmas as the lemmas are even more specific. Also the number of lemmas was less than the number of tokes which would lead to an increase as well. "
   ]
  },
  {
   "cell_type": "markdown",
   "metadata": {},
   "source": [
    "#### Question 13"
   ]
  },
  {
   "cell_type": "markdown",
   "metadata": {},
   "source": [
    "13. Based on your reading of the original article, which summary do you think is better (if there's a difference).  Why do you think this might be?"
   ]
  },
  {
   "cell_type": "markdown",
   "metadata": {},
   "source": [
    "Based upon my reading of the article, I think the difference in the scores is not that meaningful. However, as I feel many would only the skim the article for the major points, the review lemma summary may be a little closer to what an actual reader may experience. "
   ]
  }
 ],
 "metadata": {
  "kernelspec": {
   "display_name": "Python 3",
   "language": "python",
   "name": "python3"
  },
  "language_info": {
   "codemirror_mode": {
    "name": "ipython",
    "version": 3
   },
   "file_extension": ".py",
   "mimetype": "text/x-python",
   "name": "python",
   "nbconvert_exporter": "python",
   "pygments_lexer": "ipython3",
   "version": "3.11.4"
  }
 },
 "nbformat": 4,
 "nbformat_minor": 4
}
